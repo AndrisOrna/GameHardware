{
 "cells": [
  {
   "cell_type": "code",
   "execution_count": 6,
   "id": "48ee3feb",
   "metadata": {},
   "outputs": [],
   "source": [
    "def grabDomain(email):\n",
    "    return email.split('@')[-1]"
   ]
  },
  {
   "cell_type": "code",
   "execution_count": 7,
   "id": "60763cd3",
   "metadata": {},
   "outputs": [
    {
     "data": {
      "text/plain": [
       "'hotmail.com'"
      ]
     },
     "execution_count": 7,
     "metadata": {},
     "output_type": "execute_result"
    }
   ],
   "source": [
    "grabDomain('andris@hotmail.com')"
   ]
  },
  {
   "cell_type": "code",
   "execution_count": 14,
   "id": "74d26a14",
   "metadata": {},
   "outputs": [],
   "source": [
    "def findNameDog(dog):\n",
    "    return 'dog' in dog.lower().split()"
   ]
  },
  {
   "cell_type": "code",
   "execution_count": 15,
   "id": "95f98098",
   "metadata": {},
   "outputs": [
    {
     "data": {
      "text/plain": [
       "True"
      ]
     },
     "execution_count": 15,
     "metadata": {},
     "output_type": "execute_result"
    }
   ],
   "source": [
    "findNameDog('Is the dog in this sentence?')"
   ]
  },
  {
   "cell_type": "code",
   "execution_count": 17,
   "id": "8470cd17",
   "metadata": {},
   "outputs": [
    {
     "ename": "SyntaxError",
     "evalue": "invalid syntax (<ipython-input-17-5225ebb2418c>, line 3)",
     "output_type": "error",
     "traceback": [
      "\u001b[1;36m  File \u001b[1;32m\"<ipython-input-17-5225ebb2418c>\"\u001b[1;36m, line \u001b[1;32m3\u001b[0m\n\u001b[1;33m    for word in dog.lower().split()\u001b[0m\n\u001b[1;37m                                   ^\u001b[0m\n\u001b[1;31mSyntaxError\u001b[0m\u001b[1;31m:\u001b[0m invalid syntax\n"
     ]
    }
   ],
   "source": [
    "def countDog(dog):\n",
    "    count=0\n",
    "    for word in dog.lower().split()\n",
    "    return count"
   ]
  },
  {
   "cell_type": "code",
   "execution_count": 24,
   "id": "f52a0a9a",
   "metadata": {},
   "outputs": [],
   "source": [
    "def caught_speeding(speed, is_birthday):\n",
    "    if is_birthday:\n",
    "        speeding = speed -5\n",
    "    else:\n",
    "        speeding = speed\n",
    "    if speeding >80:\n",
    "        return 'Big Ticket'\n",
    "    elif speeding >60:\n",
    "        return'Small Ticket'\n",
    "    else:\n",
    "        return 'Not Ticket'"
   ]
  },
  {
   "cell_type": "code",
   "execution_count": 25,
   "id": "c2c6fa00",
   "metadata": {},
   "outputs": [
    {
     "data": {
      "text/plain": [
       "'Small Ticket'"
      ]
     },
     "execution_count": 25,
     "metadata": {},
     "output_type": "execute_result"
    }
   ],
   "source": [
    "caught_speeding(81,True)"
   ]
  },
  {
   "cell_type": "code",
   "execution_count": 26,
   "id": "952b4eb5",
   "metadata": {},
   "outputs": [
    {
     "data": {
      "text/plain": [
       "'Not Ticket'"
      ]
     },
     "execution_count": 26,
     "metadata": {},
     "output_type": "execute_result"
    }
   ],
   "source": [
    "caught_speeding(61,True)"
   ]
  },
  {
   "cell_type": "code",
   "execution_count": 27,
   "id": "4a0f6117",
   "metadata": {},
   "outputs": [
    {
     "data": {
      "text/plain": [
       "'Big Ticket'"
      ]
     },
     "execution_count": 27,
     "metadata": {},
     "output_type": "execute_result"
    }
   ],
   "source": [
    "caught_speeding(81,False)"
   ]
  },
  {
   "cell_type": "code",
   "execution_count": null,
   "id": "b7e21307",
   "metadata": {},
   "outputs": [],
   "source": []
  }
 ],
 "metadata": {
  "kernelspec": {
   "display_name": "Python 3",
   "language": "python",
   "name": "python3"
  },
  "language_info": {
   "codemirror_mode": {
    "name": "ipython",
    "version": 3
   },
   "file_extension": ".py",
   "mimetype": "text/x-python",
   "name": "python",
   "nbconvert_exporter": "python",
   "pygments_lexer": "ipython3",
   "version": "3.8.8"
  }
 },
 "nbformat": 4,
 "nbformat_minor": 5
}
